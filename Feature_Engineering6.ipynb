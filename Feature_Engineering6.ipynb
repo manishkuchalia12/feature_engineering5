{
 "cells": [
  {
   "cell_type": "markdown",
   "id": "36006d16-7eb9-48ce-974f-29631822d22c",
   "metadata": {},
   "source": [
    "Q1. Pearson correlation coefficient is a measure of the linear relationship between two variables. Suppose \n",
    "you have collected data on the amount of time students spend studying for an exam and their final exam \n",
    "scores. Calculate the Pearson correlation coefficient between these two variables and interpret the result."
   ]
  },
  {
   "cell_type": "code",
   "execution_count": null,
   "id": "7ad69f03-c670-473b-ba3e-55f76ca555f4",
   "metadata": {},
   "outputs": [],
   "source": [
    "import numpy as np\n",
    "\n",
    "# Sample data: time spent studying (hours) and final exam scores\n",
    "time_spent_studying = np.array([10, 20, 15, 25, 30])\n",
    "final_exam_scores = np.array([60, 85, 70, 90, 95])\n",
    "\n",
    "# Calculate the Pearson correlation coefficient\n",
    "correlation_coefficient = np.corrcoef(time_spent_studying, final_exam_scores)[0, 1]\n",
    "\n",
    "# Display the correlation coefficient\n",
    "print(f\"Pearson Correlation Coefficient: {correlation_coefficient}\")\n"
   ]
  },
  {
   "cell_type": "markdown",
   "id": "5aa43aa4-c8a9-408a-a545-372c4f8e7bf3",
   "metadata": {},
   "source": [
    "Q2. Spearman's rank correlation is a measure of the monotonic relationship between two variables. \n",
    "Suppose you have collected data on the amount of sleep individuals get each night and their overall job \n",
    "satisfaction level on a scale of 1 to 10. Calculate the Spearman's rank correlation between these two \n",
    "variables and interpret the result.\n",
    "Ans:-"
   ]
  },
  {
   "cell_type": "code",
   "execution_count": null,
   "id": "759b5cf6-4950-46d8-88a0-e4157731006a",
   "metadata": {},
   "outputs": [],
   "source": [
    "from scipy.stats import spearmanr\n",
    "\n",
    "# Sample data: amount of sleep and job satisfaction level\n",
    "amount_of_sleep = [7, 5, 8, 6, 7, 9, 6, 5]\n",
    "job_satisfaction = [8, 4, 9, 6, 7, 10, 7, 5]\n",
    "\n",
    "# Calculate Spearman's rank correlation coefficient\n",
    "correlation_coefficient, p_value = spearmanr(amount_of_sleep, job_satisfaction)\n",
    "\n",
    "# Display the correlation coefficient\n",
    "print(f\"Spearman's Rank Correlation Coefficient: {correlation_coefficient}\")\n"
   ]
  },
  {
   "cell_type": "markdown",
   "id": "1395b185-98fa-4d73-baa5-2afc2e8d420f",
   "metadata": {},
   "source": [
    "Q3. Suppose you are conducting a study to examine the relationship between the number of hours of \n",
    "exercise per week and body mass index (BMI) in a sample of adults. You collected data on both variables \n",
    "for 50 participants. Calculate the Pearson correlation coefficient and the Spearman's rank correlation \n",
    "between these two variables and compare the results."
   ]
  },
  {
   "cell_type": "code",
   "execution_count": null,
   "id": "54f8eb79-465f-4055-804c-b6cc5359f2c2",
   "metadata": {},
   "outputs": [],
   "source": [
    "import numpy as np\n",
    "from scipy.stats import pearsonr, spearmanr\n",
    "\n",
    "# Sample data: hours of exercise per week and body mass index (BMI)\n",
    "hours_of_exercise = np.array([3, 5, 2, 6, 4, 7, 2, 5, 3, 6, 4, 8, 5, 3, 7, 2, 6, 4, 8, 5,\n",
    "                             3, 6, 4, 7, 2, 6, 4, 8, 5, 3, 6, 4, 7, 2, 5, 3, 6, 4, 8, 5,\n",
    "                             3, 6, 4, 7, 2, 6, 4, 8, 5, 3])\n",
    "\n",
    "bmi = np.array([22, 25, 20, 27, 24, 29, 19, 26, 21, 28, 23, 30, 25, 22, 28, 20, 26, 23, 30, 25,\n",
    "                22, 28, 20, 27, 19, 28, 23, 31, 26, 21, 29, 24, 30, 20, 27, 22, 29, 24, 32, 27,\n",
    "                23, 30, 25, 28, 21, 29, 24, 31, 26, 22])\n",
    "\n",
    "# Calculate Pearson correlation coefficient\n",
    "pearson_corr, _ = pearsonr(hours_of_exercise, bmi)\n",
    "\n",
    "# Calculate Spearman's rank correlation coefficient\n",
    "spearman_corr, _ = spearmanr(hours_of_exercise, bmi)\n",
    "\n",
    "# Display the correlation coefficients\n",
    "print(f\"Pearson Correlation Coefficient: {pearson_corr}\")\n",
    "print(f\"Spearman's Rank Correlation Coefficient: {spearman_corr}\")\n"
   ]
  },
  {
   "cell_type": "markdown",
   "id": "d88bdb71-30fb-4043-a7c6-d026b6dd5b55",
   "metadata": {},
   "source": [
    "Q4. A researcher is interested in examining the relationship between the number of hours individuals \n",
    "spend watching television per day and their level of physical activity. The researcher collected data on \n",
    "both variables from a sample of 50 participants. Calculate the Pearson correlation coefficient between \n",
    "these two variables."
   ]
  },
  {
   "cell_type": "code",
   "execution_count": null,
   "id": "99682708-0f6c-4017-a264-69f3466fe569",
   "metadata": {},
   "outputs": [],
   "source": [
    "import numpy as np\n",
    "from scipy.stats import pearsonr\n",
    "\n",
    "# Sample data: hours spent watching television per day and level of physical activity\n",
    "hours_of_tv = np.array([2, 3, 1, 4, 2, 5, 3, 1, 4, 2, 5, 3, 1, 4, 2, 5, 3, 1, 4, 2,\n",
    "                        3, 1, 4, 2, 5, 3, 1, 4, 2, 5, 3, 1, 4, 2, 5, 3, 1, 4, 2, 5,\n",
    "                        3, 1, 4, 2, 5, 3, 1, 4, 2, 5, 3])\n",
    "\n",
    "physical_activity_level = np.array([3, 2, 4, 1, 3, 1, 2, 4, 1, 3, 1, 2, 4, 1, 3, 1, 2, 4, 1, 3,\n",
    "                                    2, 4, 1, 3, 1, 2, 4, 1, 3, 1, 2, 4, 1, 3, 2, 4, 1, 3, 1,\n",
    "                                    2, 4, 1, 3, 1, 2, 4, 1, 3, 2, 4, 1])\n",
    "\n",
    "# Calculate Pearson correlation coefficient\n",
    "pearson_corr, _ = pearsonr(hours_of_tv, physical_activity_level)\n",
    "\n",
    "# Display the correlation coefficient\n",
    "print(f\"Pearson Correlation Coefficient: {pearson_corr}\")\n"
   ]
  },
  {
   "cell_type": "markdown",
   "id": "979c471d-3359-440d-9674-2c8b9db75e15",
   "metadata": {},
   "source": [
    "Q6. A company is interested in examining the relationship between the number of sales calls made per day \n",
    "and the number of sales made per week. The company collected data on both variables from a sample of \n",
    "30 sales representatives. Calculate the Pearson correlation coefficient between these two variables"
   ]
  },
  {
   "cell_type": "code",
   "execution_count": null,
   "id": "40b4600f-7ac7-4c15-9381-df820399e037",
   "metadata": {},
   "outputs": [],
   "source": [
    "import numpy as np\n",
    "from scipy.stats import pearsonr\n",
    "\n",
    "# Sample data: number of sales calls made per day and number of sales made per week\n",
    "sales_calls_per_day = np.array([30, 40, 25, 35, 45, 30, 40, 25, 35, 45, 30, 40, 25, 35, 45,\n",
    "                                30, 40, 25, 35, 45, 30, 40, 25, 35, 45, 30, 40, 25, 35, 45])\n",
    "\n",
    "sales_per_week = np.array([5, 8, 4, 7, 9, 6, 8, 3, 7, 9, 5, 8, 4, 7, 9, 6, 8, 3, 7, 9,\n",
    "                            5, 8, 4, 7, 9, 6, 8, 3, 7, 9])\n",
    "\n",
    "# Calculate Pearson correlation coefficient\n",
    "pearson_corr, _ = pearsonr(sales_calls_per_day, sales_per_week)\n",
    "\n",
    "# Display the correlation coefficient\n",
    "print(f\"Pearson Correlation Coefficient: {pearson_corr}\")\n"
   ]
  },
  {
   "cell_type": "code",
   "execution_count": null,
   "id": "e1fd651f-0d51-4757-9b3a-a7900dda5f7a",
   "metadata": {},
   "outputs": [],
   "source": [
    "Q5. A survey was conducted to examine the relationship between age and preference for a particular \n",
    "brand of soft drink. The survey results are shown below:\n",
    "\n",
    " link through your dashboard. Make sure the repository is public.\n",
    "Age(Years)\n",
    "25 Coke\n",
    "42 Pepsi\n",
    "37\n",
    "19\n",
    "31\n",
    "28\n",
    "Mountain dew\n",
    "Coke\n",
    "Pepsi\n",
    "Coke"
   ]
  }
 ],
 "metadata": {
  "kernelspec": {
   "display_name": "Python 3 (ipykernel)",
   "language": "python",
   "name": "python3"
  },
  "language_info": {
   "codemirror_mode": {
    "name": "ipython",
    "version": 3
   },
   "file_extension": ".py",
   "mimetype": "text/x-python",
   "name": "python",
   "nbconvert_exporter": "python",
   "pygments_lexer": "ipython3",
   "version": "3.12.0"
  }
 },
 "nbformat": 4,
 "nbformat_minor": 5
}
